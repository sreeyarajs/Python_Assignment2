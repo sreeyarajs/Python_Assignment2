{
 "cells": [
  {
   "cell_type": "code",
   "execution_count": 3,
   "id": "72778ec4-12de-415f-be3f-002dd7e05f42",
   "metadata": {},
   "outputs": [
    {
     "name": "stdout",
     "output_type": "stream",
     "text": [
      "Hello Sreeya\n",
      "Good Morning \n"
     ]
    }
   ],
   "source": [
    "'''\n",
    "1. Write a function greet that takes two arguments: name (a string) and greeting \n",
    "(a string with a default value of \"Hello\"). The function should return a greeting message\n",
    "'''\n",
    "def greet(name, greeting=\"Hello\"):\n",
    "    return f\"{greeting} {name}\"\n",
    "\n",
    "print(greet(\"Sreeya\"))\n",
    "print(greet(\"\", \"Good Morning\"))"
   ]
  },
  {
   "cell_type": "code",
   "execution_count": 5,
   "id": "051054d9-7cf9-44bb-addc-415ca5379bf9",
   "metadata": {},
   "outputs": [
    {
     "name": "stdout",
     "output_type": "stream",
     "text": [
      "Name: Chiya, Age: 16, City: Sofys\n",
      "Name: Zetsu, Age: 18, City: Hora\n"
     ]
    }
   ],
   "source": [
    "'''\n",
    "2. Create a function create_profile that takes arguments for name, age, and city as named arguments. \n",
    "The function should return a string like \"Name: Alice, Age: 25, City: New York\". \n",
    "Ensure that the age argument has a default value of 18\n",
    "'''\n",
    "# Function def\n",
    "def create_profile(name, city, age=18):\n",
    "    return f\"Name: {name}, Age: {age}, City: {city}\"\n",
    "\n",
    "#Create profile with custom age\n",
    "profile = create_profile(name=\"Chiya\", city=\"Sofys\", age=16)\n",
    "print(profile)\n",
    "\n",
    "#Create profile with default age\n",
    "profile_default_age = create_profile(name=\"Zetsu\", city=\"Hora\")\n",
    "print(profile_default_age)"
   ]
  },
  {
   "cell_type": "code",
   "execution_count": 9,
   "id": "a30864b8-61ec-465e-a5b6-71dc97547543",
   "metadata": {},
   "outputs": [
    {
     "name": "stdout",
     "output_type": "stream",
     "text": [
      "Sum: 0\n",
      "Keyword: {'a': 100, 'b': 200}\n"
     ]
    }
   ],
   "source": [
    "'''\n",
    "3. Write a function sum numbers that takes any number of positional arguments (args) and keyword arguments (kwargs)\n",
    "'''\n",
    "# Function def\n",
    "def sum_numbers(*args, **kwargs):\n",
    "    \n",
    "    #Sum only the numeric arguments in args\n",
    "    args_sum = sum(args for arg in args if isinstance(args, (int,float)))\n",
    "    \n",
    "    #Return the sum of numbers and the kwargs dictionary\n",
    "    return args_sum, kwargs\n",
    "\n",
    "result_sum, result_kwargs = sum_numbers(10,20,30, a=100, b=200)\n",
    "print(\"Sum:\", result_sum)\n",
    "print(\"Keyword:\", result_kwargs)"
   ]
  },
  {
   "cell_type": "code",
   "execution_count": 13,
   "id": "2f47d0b0-5e6e-4c6d-b788-0ee0fcf3f67e",
   "metadata": {},
   "outputs": [
    {
     "name": "stdout",
     "output_type": "stream",
     "text": [
      "[121, 484, 1156, 2209, 3025, 3844, 5929, 7056, 8836, 10816]\n"
     ]
    }
   ],
   "source": [
    "'''\n",
    "4. Write a function that uses map and a lambda to return a list where each element is squared.\n",
    "'''\n",
    "def square_elements(input_list):\n",
    "    return list(map(lambda x: x**2, input_list))\n",
    "\n",
    "n = [11,22,34,47,55,62,77,84,94,104]\n",
    "squared_numbers = square_elements(n)\n",
    "print(squared_numbers)"
   ]
  },
  {
   "cell_type": "code",
   "execution_count": 15,
   "id": "b3f26342-fbc3-49c0-96ea-82805d9fb60b",
   "metadata": {},
   "outputs": [
    {
     "name": "stdout",
     "output_type": "stream",
     "text": [
      "[2, 4, 6, 8, 14, 60]\n"
     ]
    }
   ],
   "source": [
    "'''\n",
    "5. Write a function that filters out all odd numbers from a list using filter and a lambda function\n",
    "'''\n",
    "def filter_odds(input_list):\n",
    "    return list(filter(lambda x: x % 2 == 0, input_list))\n",
    "\n",
    "n = [1,2,3,4,5,6,7,8,9,14,60]\n",
    "filtered_numbers = filter_odds(n)\n",
    "print(filtered_numbers)"
   ]
  },
  {
   "cell_type": "code",
   "execution_count": 18,
   "id": "8ec24d0f-f6ee-4325-a278-100f0429ebdf",
   "metadata": {},
   "outputs": [
    {
     "name": "stdout",
     "output_type": "stream",
     "text": [
      "[4, 16, 36, 64, 100]\n"
     ]
    }
   ],
   "source": [
    "'''\n",
    "6. Create a list comprehension that takes a list of numbers and returns a list of their squares\n",
    "'''\n",
    "def square_elements(input_list):\n",
    "    return [x**2 for x in input_list]\n",
    "\n",
    "n = [2,4,6,8,10]\n",
    "square_numbers = square_elements(n)\n",
    "print(square_numbers)"
   ]
  },
  {
   "cell_type": "code",
   "execution_count": 20,
   "id": "23c149dc-96bc-49c1-b161-e0b62d9d84f1",
   "metadata": {},
   "outputs": [
    {
     "name": "stdout",
     "output_type": "stream",
     "text": [
      "[2, 4, 6, 8, 10, 12, 14, 16, 18, 20]\n"
     ]
    }
   ],
   "source": [
    "'''\n",
    "7. Use a list comprehension to create a list of even numbers from 1 to 20\n",
    "'''\n",
    "even_numbers = [x for x in range(1,21) if x%2 == 0]\n",
    "print(even_numbers)"
   ]
  },
  {
   "cell_type": "code",
   "execution_count": 22,
   "id": "17e9e669-330c-4789-a4fd-155d2faa2624",
   "metadata": {},
   "outputs": [
    {
     "name": "stdout",
     "output_type": "stream",
     "text": [
      "Directory 'Python' created.\n",
      "Paused for 3 seconds.\n",
      "Directory 'Python' deleted.\n"
     ]
    }
   ],
   "source": [
    "'''\n",
    "8. Write a function file_operations that creates a directory named \"test_folder\" using os.makedirs(). \n",
    "Then, pause the execution for 3 seconds using time.sleep(), and finally, delete the directory using os.rmdir()\n",
    "'''\n",
    "import os\n",
    "import time\n",
    "\n",
    "def file_operations():\n",
    "    \n",
    "    os.makedirs(\"Python\")\n",
    "    print(\"Directory 'Python' created.\")\n",
    "    \n",
    "    time.sleep(3)\n",
    "    print(\"Paused for 3 seconds.\")\n",
    "    \n",
    "    os.rmdir(\"Python\")\n",
    "    print(\"Directory 'Python' deleted.\")\n",
    "    \n",
    "file_operations()"
   ]
  },
  {
   "cell_type": "code",
   "execution_count": 24,
   "id": "01369cf7-e9fe-401a-9f27-e5980d0da0b9",
   "metadata": {},
   "outputs": [
    {
     "name": "stdout",
     "output_type": "stream",
     "text": [
      "Paused execution...\n"
     ]
    }
   ],
   "source": [
    "'''\n",
    "9. Write a Python script that imports only sleep from the time module and renames it to pause. \n",
    "Use it to pause execution for 2 seconds and print \"Paused execution...\"\n",
    "'''\n",
    "from time import sleep as pause\n",
    "pause(5)\n",
    "print(\"Paused execution...\")"
   ]
  },
  {
   "cell_type": "code",
   "execution_count": 26,
   "id": "513f3197-4fe4-4c24-bee5-2d19cd011dee",
   "metadata": {},
   "outputs": [
    {
     "name": "stdout",
     "output_type": "stream",
     "text": [
      "[1, 2, 3, 4, 5, 6, 7, 8]\n"
     ]
    }
   ],
   "source": [
    "'''\n",
    "10. Write a recursive function flatten_list that can flatten a nested list of any depth using args and kwargs\n",
    "'''\n",
    "def flatten_list(*args):\n",
    "    flatten = []\n",
    "    for item in args:\n",
    "        if isinstance(item, list):\n",
    "            \n",
    "            # Recursively flatten the nested list\n",
    "            flatten.extend(flatten_list(*item))\n",
    "        else:\n",
    "            # Add the item to the flattened list\n",
    "            flatten.append(item)\n",
    "            \n",
    "    return flatten\n",
    "\n",
    "nested_list = [1, [2, [3, 4]], 5, [6, [7, [8]]]]\n",
    "flat_list = flatten_list(*nested_list)\n",
    "print(flat_list)"
   ]
  },
  {
   "cell_type": "code",
   "execution_count": null,
   "id": "cf3eb14a-a4ff-4bc5-bb21-53650f343c08",
   "metadata": {},
   "outputs": [],
   "source": []
  }
 ],
 "metadata": {
  "kernelspec": {
   "display_name": "Python 3 (ipykernel)",
   "language": "python",
   "name": "python3"
  },
  "language_info": {
   "codemirror_mode": {
    "name": "ipython",
    "version": 3
   },
   "file_extension": ".py",
   "mimetype": "text/x-python",
   "name": "python",
   "nbconvert_exporter": "python",
   "pygments_lexer": "ipython3",
   "version": "3.12.4"
  }
 },
 "nbformat": 4,
 "nbformat_minor": 5
}
