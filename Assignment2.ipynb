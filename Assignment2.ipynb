'''
1. Write a function greet that takes two arguments: name (a string) and greeting 
(a string with a default value of "Hello"). The function should return a greeting message
'''
def greet(name, greeting="Hello"):
    return f"{greeting} {name}"

print(greet("Sreeya"))
print(greet("", "Good Morning"))


'''
2. Create a function create_profile that takes arguments for name, age, and city as named arguments. 
The function should return a string like "Name: Alice, Age: 25, City: New York". 
Ensure that the age argument has a default value of 18
'''
# Function def
def create_profile(name, city, age=18):
    return f"Name: {name}, Age: {age}, City: {city}"

#Create profile with custom age
profile = create_profile(name="Chiya", city="Sofys", age=16)
print(profile)

#Create profile with default age
profile_default_age = create_profile(name="Zetsu", city="Hora")
print(profile_default_age)


'''
3. Write a function sum numbers that takes any number of positional arguments (args) and keyword arguments (kwargs)
'''
# Function def
def sum_numbers(*args, **kwargs):
    
    #Sum only the numeric arguments in args
    args_sum = sum(args for arg in args if isinstance(args, (int,float)))
    
    #Return the sum of numbers and the kwargs dictionary
    return args_sum, kwargs

result_sum, result_kwargs = sum_numbers(10,20,30, a=100, b=200)
print("Sum:", result_sum)
print("Keyword:", result_kwargs)


'''
4. Write a function that uses map and a lambda to return a list where each element is squared.
'''
def square_elements(input_list):
    return list(map(lambda x: x**2, input_list))

n = [11,22,34,47,55,62,77,84,94,104]
squared_numbers = square_elements(n)
print(squared_numbers)


'''
5. Write a function that filters out all odd numbers from a list using filter and a lambda function
'''
def filter_odds(input_list):
    return list(filter(lambda x: x % 2 == 0, input_list))

n = [1,2,3,4,5,6,7,8,9,14,60]
filtered_numbers = filter_odds(n)
print(filtered_numbers)


'''
6. Create a list comprehension that takes a list of numbers and returns a list of their squares
'''
def square_elements(input_list):
    return [x**2 for x in input_list]

n = [2,4,6,8,10]
square_numbers = square_elements(n)
print(square_numbers)


'''
7. Use a list comprehension to create a list of even numbers from 1 to 20
'''
even_numbers = [x for x in range(1,21) if x%2 == 0]
print(even_numbers)


'''
8. Write a function file_operations that creates a directory named "test_folder" using os.makedirs(). 
Then, pause the execution for 3 seconds using time.sleep(), and finally, delete the directory using os.rmdir()
'''
import os
import time

def file_operations():
    
    os.makedirs("Python")
    print("Directory 'Python' created.")
    
    time.sleep(3)
    print("Paused for 3 seconds.")
    
    os.rmdir("Python")
    print("Directory 'Python' deleted.")
    
file_operations()


'''
9. Write a Python script that imports only sleep from the time module and renames it to pause. 
Use it to pause execution for 2 seconds and print "Paused execution..."
'''
from time import sleep as pause
pause(5)
print("Paused execution...")


'''
10. Write a recursive function flatten_list that can flatten a nested list of any depth using args and kwargs
'''
def flatten_list(*args):
    flatten = []
    for item in args:
        if isinstance(item, list):
            
            # Recursively flatten the nested list
            flatten.extend(flatten_list(*item))
        else:
            # Add the item to the flattened list
            flatten.append(item)
            
    return flatten

nested_list = [1, [2, [3, 4]], 5, [6, [7, [8]]]]
flat_list = flatten_list(*nested_list)
print(flat_list)



